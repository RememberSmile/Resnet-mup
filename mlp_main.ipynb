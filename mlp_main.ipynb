{
 "cells": [
  {
   "cell_type": "code",
   "execution_count": 1,
   "id": "a9332e50",
   "metadata": {},
   "outputs": [],
   "source": [
    "import argparse\n",
    "import os\n",
    "\n",
    "import math\n",
    "import numpy as np\n",
    "import torch\n",
    "import torch.nn as nn\n",
    "import torch.optim as optim\n",
    "import torchvision\n",
    "import torchvision.transforms as transforms\n",
    "from mup.coord_check import get_coord_data, plot_coord_data\n",
    "from mup import MuAdam, MuSGD, get_shapes, make_base_shapes, set_base_shapes"
   ]
  },
  {
   "cell_type": "markdown",
   "id": "337174e7",
   "metadata": {},
   "source": [
    "### hyper parameter"
   ]
  },
  {
   "cell_type": "code",
   "execution_count": 2,
   "id": "8cd74cda",
   "metadata": {},
   "outputs": [],
   "source": [
    "batch_size = 64\n",
    "test_batch_size = 128\n",
    "lr = 0.01\n",
    "seed = 42\n",
    "# our hyper parameter\n",
    "T = 1\n",
    "width = 128  \n",
    "depth = 4 # Does not include output and output layer\n",
    "out_alpha = 1 #1/math.sqrt(width)\n",
    "connect_type = \"pre\" # post"
   ]
  },
  {
   "cell_type": "markdown",
   "id": "ae0c89fc",
   "metadata": {},
   "source": [
    "### prepare data"
   ]
  },
  {
   "cell_type": "code",
   "execution_count": 3,
   "id": "621d8258",
   "metadata": {},
   "outputs": [],
   "source": [
    "transform_train = transforms.Compose([\n",
    "            transforms.RandomCrop(32, padding=4),\n",
    "            transforms.RandomHorizontalFlip(),\n",
    "            transforms.ToTensor(),\n",
    "            transforms.Normalize((0.4914, 0.4822, 0.4465), (0.2023, 0.1994, 0.2010)),\n",
    "        ])"
   ]
  },
  {
   "cell_type": "code",
   "execution_count": 4,
   "id": "bc73339f",
   "metadata": {},
   "outputs": [],
   "source": [
    "transform_test = transforms.Compose([\n",
    "            transforms.ToTensor(),\n",
    "            transforms.Normalize((0.4914, 0.4822, 0.4465), (0.2023, 0.1994, 0.2010)),\n",
    "        ])"
   ]
  },
  {
   "cell_type": "code",
   "execution_count": 5,
   "id": "82122ad3",
   "metadata": {},
   "outputs": [],
   "source": [
    "trainset = torchvision.datasets.CIFAR10(\n",
    "    root='../dataset', train=True, download=True, transform=transform_train)\n",
    "trainloader = torch.utils.data.DataLoader(\n",
    "    trainset, batch_size=batch_size, shuffle=True)\n",
    "\n",
    "testset = torchvision.datasets.CIFAR10(\n",
    "    root='../dataset', train=False, download=True, transform=transform_test)\n",
    "testloader = torch.utils.data.DataLoader(\n",
    "    testset, batch_size=test_batch_size, shuffle=False)\n",
    "\n",
    "classes = ('plane', 'car', 'bird', 'cat', 'deer',\n",
    "        'dog', 'frog', 'horse', 'ship', 'truck')"
   ]
  },
  {
   "cell_type": "code",
   "execution_count": 6,
   "id": "e420caa2",
   "metadata": {},
   "outputs": [],
   "source": [
    "# Training\n",
    "def train(epoch, net):\n",
    "    from utils import progress_bar\n",
    "    print('\\nEpoch: %d' % epoch)\n",
    "    net.train()\n",
    "    train_loss = 0\n",
    "    correct = 0\n",
    "    total = 0\n",
    "    for batch_idx, (inputs, targets) in enumerate(trainloader):\n",
    "        inputs, targets = inputs.to(device), targets.to(device)\n",
    "        optimizer.zero_grad()\n",
    "        outputs = net(inputs)\n",
    "        loss = criterion(outputs, targets)\n",
    "        loss.backward()\n",
    "        optimizer.step()\n",
    "\n",
    "        train_loss += loss.item()\n",
    "        _, predicted = outputs.max(1)\n",
    "        total += targets.size(0)\n",
    "        correct += predicted.eq(targets).sum().item()\n",
    "\n",
    "        progress_bar(batch_idx, len(trainloader), 'Loss: %.3f | Acc: %.3f%% (%d/%d)'\n",
    "                     % (train_loss/(batch_idx+1), 100.*correct/total, correct, total))\n"
   ]
  },
  {
   "cell_type": "code",
   "execution_count": 7,
   "id": "ef10c4f0",
   "metadata": {},
   "outputs": [],
   "source": [
    "def test(epoch, net):\n",
    "    from utils import progress_bar\n",
    "    best_acc = -1\n",
    "    net.eval()\n",
    "    test_loss = 0\n",
    "    correct = 0\n",
    "    total = 0\n",
    "    with torch.no_grad():\n",
    "        for batch_idx, (inputs, targets) in enumerate(testloader):\n",
    "            inputs, targets = inputs.to(device), targets.to(device)\n",
    "            outputs = net(inputs)\n",
    "            loss = criterion(outputs, targets)\n",
    "\n",
    "            test_loss += loss.item()\n",
    "            _, predicted = outputs.max(1)\n",
    "            total += targets.size(0)\n",
    "            correct += predicted.eq(targets).sum().item()\n",
    "\n",
    "            progress_bar(batch_idx, len(testloader), 'Loss: %.3f | Acc: %.3f%% (%d/%d)'\n",
    "                         % (test_loss/(batch_idx+1), 100.*correct/total, correct, total))\n",
    "\n",
    "    # Save checkpoint.\n",
    "    acc = 100.*correct/total\n",
    "    if acc > best_acc:\n",
    "        print('Saving..')\n",
    "        state = {\n",
    "            'net': net.state_dict(),\n",
    "            'acc': acc,\n",
    "            'epoch': epoch,\n",
    "        }\n",
    "        if not os.path.isdir('checkpoint'):\n",
    "            os.mkdir('checkpoint')\n",
    "        torch.save(state, './checkpoint/ckpt.pth')\n",
    "        best_acc = acc"
   ]
  },
  {
   "cell_type": "code",
   "execution_count": 8,
   "id": "24d9cbcf",
   "metadata": {},
   "outputs": [
    {
     "data": {
      "text/plain": [
       "<torch._C.Generator at 0x7ecdd0168610>"
      ]
     },
     "execution_count": 8,
     "metadata": {},
     "output_type": "execute_result"
    }
   ],
   "source": [
    "device = 'cuda' if torch.cuda.is_available() else 'cpu'\n",
    "best_acc = 0  # best test accuracy\n",
    "start_epoch = 0  # start from epoch 0 or last checkpoint epoch\n",
    "\n",
    "\n",
    "# Set the random seed manually for reproducibility.\n",
    "torch.manual_seed(seed)"
   ]
  },
  {
   "cell_type": "markdown",
   "id": "872bc371",
   "metadata": {},
   "source": [
    "### Task 1. pre or post"
   ]
  },
  {
   "cell_type": "code",
   "execution_count": 9,
   "id": "140d5c53",
   "metadata": {},
   "outputs": [],
   "source": [
    "from model.resnet_mlp import ResNetMlp"
   ]
  },
  {
   "cell_type": "code",
   "execution_count": 10,
   "id": "2e0d343e",
   "metadata": {},
   "outputs": [],
   "source": [
    "post_config = {\n",
    "    \"T\": 1,\n",
    "    \"width\": 128,\n",
    "    \"depth\": 4,\n",
    "    \"out_alpha\": 1,  # 1/math.sqrt(width)\n",
    "    \"connect_type\": \"post\"  # pre or post\n",
    "}\n",
    "pre_config = {\n",
    "    \"T\": 1,\n",
    "    \"width\": 128,\n",
    "    \"depth\": 4,\n",
    "    \"out_alpha\": 1,  # 1/math.sqrt(width)\n",
    "    \"connect_type\": \"pre\"  # pre or post\n",
    "}"
   ]
  },
  {
   "cell_type": "code",
   "execution_count": 11,
   "id": "f786c2d8",
   "metadata": {},
   "outputs": [
    {
     "name": "stdout",
     "output_type": "stream",
     "text": [
      "{'T': 1, 'width': 128, 'depth': 4, 'out_alpha': 1, 'connect_type': 'pre'}\n",
      "{'T': 1, 'width': 128, 'depth': 4, 'out_alpha': 1, 'connect_type': 'post'}\n"
     ]
    }
   ],
   "source": [
    "def bulidModel(*arg,**kwargs):\n",
    "    print(kwargs)\n",
    "    T  = kwargs[\"T\"]\n",
    "    depth = kwargs[\"depth\"]\n",
    "    width = kwargs[\"width\"]\n",
    "    out_alpha = kwargs[\"out_alpha\"]\n",
    "    connect_type = kwargs[\"connect_type\"]\n",
    "    # width,depth,T,out_alpha, connect_type,\n",
    "    return  ResNetMlp(width,depth, T,out_alpha, connect_type)\n",
    "\n",
    "pre_mlp = bulidModel(**pre_config).cuda()\n",
    "post_mlp = bulidModel(**post_config).cuda()"
   ]
  },
  {
   "cell_type": "code",
   "execution_count": 12,
   "id": "115a6e45",
   "metadata": {},
   "outputs": [],
   "source": [
    "def get_state(net):\n",
    "    avg_norm = []\n",
    "    with torch.no_grad():\n",
    "        for batch_idx, (inputs, targets) in enumerate(testloader):\n",
    "            inputs, targets = inputs.to(device), targets.to(device)\n",
    "            outputs,hidden_state = net(inputs.view(inputs.size(0), -1))\n",
    "            for k,v in hidden_state.items():\n",
    "                norms = torch.norm(v, dim=1)  # 沿着第二维计算范数\n",
    "                avg_norm.extend(norms.tolist())  # 转换为Python列表\n",
    "    return sum(avg_norm)/len(avg_norm)"
   ]
  },
  {
   "cell_type": "code",
   "execution_count": 13,
   "id": "48ac6fba",
   "metadata": {},
   "outputs": [
    {
     "data": {
      "text/plain": [
       "16.09844837678075"
      ]
     },
     "execution_count": 13,
     "metadata": {},
     "output_type": "execute_result"
    }
   ],
   "source": [
    "get_state(pre_mlp)"
   ]
  },
  {
   "cell_type": "code",
   "execution_count": 14,
   "id": "c1f6f56a",
   "metadata": {},
   "outputs": [
    {
     "data": {
      "text/plain": [
       "16.60427702638507"
      ]
     },
     "execution_count": 14,
     "metadata": {},
     "output_type": "execute_result"
    }
   ],
   "source": [
    "get_state(post_mlp)"
   ]
  },
  {
   "cell_type": "code",
   "execution_count": 15,
   "id": "4cf9b00d",
   "metadata": {},
   "outputs": [],
   "source": [
    "from tqdm import tqdm"
   ]
  },
  {
   "cell_type": "code",
   "execution_count": 31,
   "id": "95cde78c",
   "metadata": {},
   "outputs": [
    {
     "name": "stderr",
     "output_type": "stream",
     "text": [
      "100%|██████████| 5/5 [00:17<00:00,  3.42s/it]\n"
     ]
    }
   ],
   "source": [
    "pre_norms = []\n",
    "post_norms = []\n",
    "all_widths = [128,256,512,1024,2048]\n",
    "for width in tqdm(all_widths):\n",
    "    pre_mlp = ResNetMlp(width=width, depth=4, T=1, out_alpha=1, connect_type=\"pre\").cuda()\n",
    "    post_mlp = ResNetMlp(width=width, depth=4, T=1, out_alpha=1, connect_type=\"post\").cuda()\n",
    "    pre_norms.append(get_state(pre_mlp))\n",
    "    post_norms.append(get_state(post_mlp))"
   ]
  },
  {
   "cell_type": "code",
   "execution_count": 32,
   "id": "a78803b4",
   "metadata": {},
   "outputs": [
    {
     "name": "stderr",
     "output_type": "stream",
     "text": [
      "100%|██████████| 5/5 [00:17<00:00,  3.50s/it]\n"
     ]
    }
   ],
   "source": [
    "pre_norms_L = []\n",
    "post_norms_L = []\n",
    "depths = [4,8,12,24,48]\n",
    "for depth in tqdm(depths):\n",
    "    pre_mlp = ResNetMlp(width=128, depth=depth, T=1, out_alpha=1, connect_type=\"pre\").cuda()\n",
    "    post_mlp = ResNetMlp(width=128, depth=depth, T=1, out_alpha=1, connect_type=\"post\").cuda()\n",
    "    pre_norms_L.append(get_state(pre_mlp))\n",
    "    post_norms_L.append(get_state(post_mlp))"
   ]
  },
  {
   "cell_type": "code",
   "execution_count": 38,
   "id": "e8747563",
   "metadata": {},
   "outputs": [],
   "source": [
    "import matplotlib.pyplot as plt\n",
    "import numpy as np\n",
    "\n",
    "def draw_pic(post_values,pre_values,x_labels):\n",
    "    x_positions = range(len(post_values))  \n",
    "\n",
    "    plt.figure(figsize=(12, 6))\n",
    "\n",
    "    plt.plot(x_positions, post_values, marker='o', linewidth=2, label='post', color='blue', markersize=8)\n",
    "    plt.plot(x_positions, pre_values, marker='s', linewidth=2, label='pre', color='red', markersize=8)\n",
    "\n",
    "    plt.xticks(x_positions, x_labels, fontsize=11)\n",
    "\n",
    "    plt.title('Post vs Pre', fontsize=16, fontweight='bold')\n",
    "    plt.xlabel('depth', fontsize=12)\n",
    "    plt.ylabel('Samples Norm(avg)', fontsize=12)\n",
    "\n",
    "    plt.legend(fontsize=12, loc='upper left')\n",
    "    plt.grid(True, alpha=0.3, linestyle='--')\n",
    "    #plt.tight_layout()\n",
    "\n",
    "    # 显示图形\n",
    "    plt.show()"
   ]
  },
  {
   "cell_type": "code",
   "execution_count": 39,
   "id": "7b3af3b7",
   "metadata": {},
   "outputs": [
    {
     "data": {
      "image/png": "[encoded data removed]",
      "text/plain": [
       "<Figure size 1200x600 with 1 Axes>"
      ]
     },
     "metadata": {},
     "output_type": "display_data"
    }
   ],
   "source": [
    "x_labels = [\"Depth{}\".format(it) for it in depths]\n",
    "draw_pic(post_norms_L, pre_norms_L, x_labels)"
   ]
  },
  {
   "cell_type": "markdown",
   "id": "e83cdc7f",
   "metadata": {},
   "source": [
    "### Task2. The impact of T(1,2,4,8)"
   ]
  },
  {
   "cell_type": "code",
   "execution_count": null,
   "id": "e970ac35",
   "metadata": {},
   "outputs": [],
   "source": [
    "Ts = [1,2,4,8]\n",
    "for T in Ts:\n",
    "    break"
   ]
  },
  {
   "cell_type": "code",
   "execution_count": null,
   "id": "36bd06c6",
   "metadata": {},
   "outputs": [],
   "source": [
    "T"
   ]
  },
  {
   "cell_type": "code",
   "execution_count": null,
   "id": "220b6031",
   "metadata": {},
   "outputs": [],
   "source": []
  },
  {
   "cell_type": "markdown",
   "id": "e479bd99",
   "metadata": {},
   "source": [
    "### Task3. Convergence test"
   ]
  },
  {
   "cell_type": "code",
   "execution_count": null,
   "id": "78651cfe",
   "metadata": {},
   "outputs": [],
   "source": []
  },
  {
   "cell_type": "code",
   "execution_count": null,
   "id": "7dd5e562",
   "metadata": {},
   "outputs": [],
   "source": []
  }
 ],
 "metadata": {
  "kernelspec": {
   "display_name": "mup",
   "language": "python",
   "name": "python3"
  },
  "language_info": {
   "codemirror_mode": {
    "name": "ipython",
    "version": 3
   },
   "file_extension": ".py",
   "mimetype": "text/x-python",
   "name": "python",
   "nbconvert_exporter": "python",
   "pygments_lexer": "ipython3",
   "version": "3.10.8"
  }
 },
 "nbformat": 4,
 "nbformat_minor": 5
}
